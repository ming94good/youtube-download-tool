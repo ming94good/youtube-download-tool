{
 "cells": [
  {
   "cell_type": "markdown",
   "metadata": {},
   "source": [
    "## Search youtube with keyword"
   ]
  },
  {
   "cell_type": "code",
   "execution_count": 1,
   "metadata": {},
   "outputs": [],
   "source": [
    "from youtube_search import YoutubeSearch\n",
    "import json\n",
    "\n",
    "def youtube_search(term):\n",
    "    results = YoutubeSearch(term, max_results=10).to_json()\n",
    "    result = json.loads(results)\n",
    "    #rint(result)\n",
    "    \n",
    "    video_list = []\n",
    "    for video in result['videos']:\n",
    "        print(video['title'])\n",
    "        link = 'https://youtube.com' + video['link']\n",
    "        print(link +'\\n')\n",
    "        \n",
    "        video_list.append(link)\n",
    "        \n",
    "    return video_list"
   ]
  },
  {
   "cell_type": "code",
   "execution_count": 2,
   "metadata": {},
   "outputs": [
    {
     "name": "stdout",
     "output_type": "stream",
     "text": [
      "【顏社】李英宏 aka DJ Didilong - 我想和你瞎 ft.馬念先 (Official Music Video)\n",
      "https://youtube.com/watch?v=9Cx5tbJth7I\n",
      "\n",
      "馬念先 & 9m88 - 你朝我的方向走來 Walking Towards Me (Official Music Video)\n",
      "https://youtube.com/watch?v=7L06_HW_HcA\n",
      "\n",
      "馬念先-台北紐約\n",
      "https://youtube.com/watch?v=f36nj3a5U-4\n",
      "\n",
      "宋楚琳 Erin Song / 馬念先 Mars Ma《去年冬天 Last Winter》Official MV\n",
      "https://youtube.com/watch?v=nIa_xJgFO38\n",
      "\n",
      "糯米糰 Sticky Rice【巴黎草莓】Official Music Video\n",
      "https://youtube.com/watch?v=AKfdkLouXS8\n",
      "\n",
      "別急著說妳愛我到天長地久 // Red Bull Studios Tokyo Live version\n",
      "https://youtube.com/watch?v=Km_kePErEfk\n",
      "\n",
      "《糯米糰》三八阿花吹喇叭 完整MV《總舖師電影主題曲》\n",
      "https://youtube.com/watch?v=sPdup528aHo\n",
      "\n",
      "馬念先【2019簡單生活節2019 Simple Urban+ 】\n",
      "https://youtube.com/watch?v=SlDRoAsM7hs\n",
      "\n",
      "馬念先你什麼時候要出專輯\n",
      "https://youtube.com/watch?v=7L06_HW_HcA&list=PLraKBdDbn7vm7MyodrMWNoV_Tbne1ePHj\n",
      "\n",
      "合輯 -「【顏社】李英宏 aka DJ Didilong - 我想和你瞎 ft.馬念先 (Official Music Video)」\n",
      "https://youtube.com/watch?v=9Cx5tbJth7I&list=RD9Cx5tbJth7I&start_radio=1\n",
      "\n"
     ]
    }
   ],
   "source": [
    "#search with keyword\n",
    "list = youtube_search('馬念先')"
   ]
  },
  {
   "cell_type": "markdown",
   "metadata": {},
   "source": [
    "## Download from single youtube url"
   ]
  },
  {
   "cell_type": "code",
   "execution_count": 3,
   "metadata": {},
   "outputs": [],
   "source": [
    "# -*- coding: utf-8 -*-\n",
    "from pytube import YouTube\n",
    "from moviepy.video.io.ffmpeg_tools import ffmpeg_extract_subclip\n",
    "\n",
    "\n",
    "def progress(stream, chunk, file_handle, bytes_remaining):\n",
    "    contentSize = video.filesize\n",
    "    size = contentSize - bytes_remaining\n",
    "\n",
    "    print('\\r' + '[Download progress]:[%s%s]%.2f%%;' % (\n",
    "    '█' * int(size*20/contentSize), ' '*(20-int(size*20/contentSize)), float(size/contentSize*100)), end='')\n",
    "\n",
    "start_time = 30 \n",
    "end_time = 60\n",
    "number = 0\n",
    "for video_url in list:\n",
    "    print(video_url)\n",
    "    yt = YouTube(video_url, on_progress_callback=progress)\n",
    "    video = yt.streams.first()\n",
    "    \n",
    "    video.download(output_path='video/', filename=str(number))\n",
    "    number = number + 1"
   ]
  },
  {
   "cell_type": "markdown",
   "metadata": {},
   "source": [
    "## Download from youtube playlist"
   ]
  },
  {
   "cell_type": "code",
   "execution_count": 1,
   "metadata": {},
   "outputs": [],
   "source": [
    "from pytube import Playlist\n",
    "pl = Playlist(\"https://www.youtube.com/playlist?list=PLaK9WqR_bQp_TCopXnlSoB4_-MGk3lpFk\")\n",
    "pl.download_all('video/')"
   ]
  },
  {
   "cell_type": "code",
   "execution_count": 2,
   "metadata": {},
   "outputs": [],
   "source": [
    "# -*- coding: utf-8 -*-\n",
    "from moviepy.editor import *\n",
    "\n",
    "start=30\n",
    "end=60\n",
    "number = 0\n",
    "for filename in range(0,10):\n",
    "    source = VideoFileClip('video/'+ str(filename) + '.mp4') .subclip(start, end)\n",
    "    number_format = \"%05d\" % number\n",
    "    source.audio.write_audiofile('audio/taiwan_indie.' + number_format + '.wav')\n",
    "    number += 1"
   ]
  },
  {
   "cell_type": "code",
   "execution_count": null,
   "metadata": {},
   "outputs": [],
   "source": []
  }
 ],
 "metadata": {
  "kernelspec": {
   "display_name": "Python 3",
   "language": "python",
   "name": "python3"
  },
  "language_info": {
   "codemirror_mode": {
    "name": "ipython",
    "version": 3
   },
   "file_extension": ".py",
   "mimetype": "text/x-python",
   "name": "python",
   "nbconvert_exporter": "python",
   "pygments_lexer": "ipython3",
   "version": "3.6.9"
  }
 },
 "nbformat": 4,
 "nbformat_minor": 4
}
